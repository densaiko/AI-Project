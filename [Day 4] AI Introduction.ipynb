{
 "cells": [
  {
   "cell_type": "markdown",
   "id": "7b2d3452",
   "metadata": {},
   "source": [
    "# 👋 Welcome to \"AI Introduction\"\n",
    "\n",
    "Notebook ini dirancang untuk memahami basic dalam mengoperasikan AI pada Python Notebook\n",
    "\n",
    "---\n",
    "\n",
    "## 📚 Apa yang Akan Anda Pelajari?\n",
    "\n",
    "Dalam pelatihan ini, Anda akan mempelajari:\n",
    "\n",
    "- Memahami setting code Python untuk AI\n",
    "- Memahami library yang digunakan pada RAG AI\n",
    "- Simple code untuk prompting dan hasilnya"
   ]
  },
  {
   "cell_type": "code",
   "execution_count": 1,
   "id": "ee5ff7c0",
   "metadata": {},
   "outputs": [],
   "source": [
    "# Import library\n",
    "import pandas as pd\n",
    "import os\n",
    "import glob\n",
    "from dotenv import load_dotenv\n",
    "\n",
    "# import visualization library\n",
    "import matplotlib.pyplot as plt\n",
    "import seaborn as sns\n",
    "import plotly.express as px\n",
    "\n",
    "# AI library\n",
    "import openai\n",
    "\n",
    "import warnings\n",
    "warnings.filterwarnings('ignore')"
   ]
  },
  {
   "cell_type": "code",
   "execution_count": 2,
   "id": "a8d9507a",
   "metadata": {},
   "outputs": [],
   "source": [
    "# Load environment variables in a file called .env\n",
    "\n",
    "load_dotenv(override=True)\n",
    "os.environ['OPENAI_API_KEY'] = os.getenv('OPENAI_API_KEY', 'your-key-if-not-using-env')"
   ]
  },
  {
   "cell_type": "markdown",
   "id": "85499144",
   "metadata": {},
   "source": [
    "- \"gpt-4o\"\n",
    "- \"gpt-4o-mini\"\n",
    "- \"gpt-4.5-turbo\"\n",
    "- \"gpt-4.5-turbo-preview\"\n",
    "- \"gpt-4.0-turbo\""
   ]
  },
  {
   "cell_type": "code",
   "execution_count": 3,
   "id": "17187eec",
   "metadata": {},
   "outputs": [],
   "source": [
    "# Model AI dari OpenAI\n",
    "MODEL = \"gpt-4o-mini\""
   ]
  },
  {
   "cell_type": "code",
   "execution_count": 4,
   "id": "2bae80e4",
   "metadata": {},
   "outputs": [],
   "source": [
    "# Input question\n",
    "# question = input(\"Masukkan pertanyaan: \")\n",
    "question = \"Apakah kamu tahu saya?\"\n",
    "\n",
    "# Response hasil\n",
    "response = openai.chat.completions.create(\n",
    "           model=MODEL,\n",
    "           messages=[{\"role\":\"system\", \"content\":\"Kamu adalah Asisten Astra Honda Motor\"},\n",
    "                    {\"role\":\"user\", \"content\":question},\n",
    "                   ],\n",
    ")"
   ]
  },
  {
   "cell_type": "code",
   "execution_count": 5,
   "id": "c7f59ea9",
   "metadata": {},
   "outputs": [
    {
     "data": {
      "text/plain": [
       "ChatCompletion(id='chatcmpl-Bt5CwsLoqX6YmdNhsA7OfPKaYWcIT', choices=[Choice(finish_reason='stop', index=0, logprobs=None, message=ChatCompletionMessage(content='Saya tidak memiliki informasi tentang Anda. Namun, saya di sini untuk membantu menjawab pertanyaan atau memberikan informasi yang Anda butuhkan tentang Astra Honda Motor atau topik lainnya. Apa yang bisa saya bantu?', refusal=None, role='assistant', annotations=[], audio=None, function_call=None, tool_calls=None))], created=1752467758, model='gpt-4o-mini-2024-07-18', object='chat.completion', service_tier='default', system_fingerprint=None, usage=CompletionUsage(completion_tokens=40, prompt_tokens=25, total_tokens=65, completion_tokens_details=CompletionTokensDetails(accepted_prediction_tokens=0, audio_tokens=0, reasoning_tokens=0, rejected_prediction_tokens=0), prompt_tokens_details=PromptTokensDetails(audio_tokens=0, cached_tokens=0)))"
      ]
     },
     "execution_count": 5,
     "metadata": {},
     "output_type": "execute_result"
    }
   ],
   "source": [
    "response"
   ]
  },
  {
   "cell_type": "code",
   "execution_count": 6,
   "id": "28361c6a",
   "metadata": {},
   "outputs": [
    {
     "data": {
      "text/plain": [
       "'Saya tidak memiliki informasi tentang Anda. Namun, saya di sini untuk membantu menjawab pertanyaan atau memberikan informasi yang Anda butuhkan tentang Astra Honda Motor atau topik lainnya. Apa yang bisa saya bantu?'"
      ]
     },
     "execution_count": 6,
     "metadata": {},
     "output_type": "execute_result"
    }
   ],
   "source": [
    "response.choices[0].message.content"
   ]
  },
  {
   "cell_type": "code",
   "execution_count": null,
   "id": "e871fcd2",
   "metadata": {},
   "outputs": [],
   "source": []
  }
 ],
 "metadata": {
  "kernelspec": {
   "display_name": "agents",
   "language": "python",
   "name": "python3"
  },
  "language_info": {
   "codemirror_mode": {
    "name": "ipython",
    "version": 3
   },
   "file_extension": ".py",
   "mimetype": "text/x-python",
   "name": "python",
   "nbconvert_exporter": "python",
   "pygments_lexer": "ipython3",
   "version": "3.12.11"
  }
 },
 "nbformat": 4,
 "nbformat_minor": 5
}
